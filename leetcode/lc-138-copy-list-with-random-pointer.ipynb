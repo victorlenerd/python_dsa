{
 "cells": [
  {
   "cell_type": "markdown",
   "metadata": {
    "collapsed": true,
    "pycharm": {
     "name": "#%% md\n"
    }
   },
   "source": [
    "## Copy List With Random Pointer\n",
    "\n",
    "A linked list is given such that each node contains an additional random pointer which could point to any node in the list or null.\n",
    "\n",
    "Return a deep copy of the list.\n",
    "\n",
    "The Linked List is represented in the input/output as a list of n nodes. Each node is represented as a pair of [val, random_index] where:\n",
    "\n",
    "* val: an integer representing Node.val\n",
    "* random_index: the index of the node (range from 0 to n-1) where random pointer points to, or null if it does not point to any node.\n",
    "\n",
    "**Example 1**\n",
    "```\n",
    "Input: head = [[7,null],[13,0],[11,4],[10,2],[1,0]]\n",
    "Output: [[7,null],[13,0],[11,4],[10,2],[1,0]]\n",
    "```\n",
    "\n",
    "**Example 2**\n",
    "```\n",
    "Input: head = [[1,1],[2,1]]\n",
    "Output: [[1,1],[2,1]]\n",
    "```"
   ]
  },
  {
   "cell_type": "code",
   "execution_count": 2,
   "outputs": [
    {
     "name": "stdout",
     "output_type": "stream",
     "text": [
      "[[7, None], [13, 1], [11, 2], [10, 3], [1, 4]]\n"
     ]
    }
   ],
   "source": [
    "class Node:\n",
    "\n",
    "    def __init__(self, x: int, next: 'Node' = None, random: 'Node' = None):\n",
    "        self.val = int(x)\n",
    "        self.next = next\n",
    "        self.random = random\n",
    "\n",
    "a = Node(x=7)\n",
    "b = Node(x=13)\n",
    "c = Node(x=11)\n",
    "d = Node(x=10)\n",
    "e = Node(x=1)\n",
    "\n",
    "a.next = b\n",
    "a.random = None\n",
    "\n",
    "b.next = c\n",
    "b.random = a\n",
    "\n",
    "c.next = d\n",
    "c.random = e\n",
    "\n",
    "d.next = e\n",
    "d.random = c\n",
    "\n",
    "e.random = a\n",
    "\n",
    "\n",
    "def print_list(head: Node):\n",
    "    lists = []\n",
    "\n",
    "    current = head\n",
    "\n",
    "    while current is not None:\n",
    "        random_val = None\n",
    "\n",
    "        lists.append([current.val, random_val])\n",
    "        current = current.next\n",
    "\n",
    "    print(lists)\n",
    "\n",
    "print_list(a)"
   ],
   "metadata": {
    "collapsed": false,
    "pycharm": {
     "name": "#%%\n"
    }
   }
  }
 ],
 "metadata": {
  "kernelspec": {
   "display_name": "Python 3",
   "language": "python",
   "name": "python3"
  },
  "language_info": {
   "codemirror_mode": {
    "name": "ipython",
    "version": 2
   },
   "file_extension": ".py",
   "mimetype": "text/x-python",
   "name": "python",
   "nbconvert_exporter": "python",
   "pygments_lexer": "ipython2",
   "version": "2.7.6"
  }
 },
 "nbformat": 4,
 "nbformat_minor": 0
}