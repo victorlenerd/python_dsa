{
 "cells": [
  {
   "cell_type": "code",
   "execution_count": 11,
   "metadata": {
    "collapsed": true,
    "jupyter": {
     "outputs_hidden": true
    },
    "pycharm": {
     "name": "#%%\n"
    }
   },
   "outputs": [
    {
     "name": "stdout",
     "output_type": "stream",
     "text": [
      "[0, 1, 0, 2, 0, 3]\n",
      "Found patter at index 20 26\n",
      "Found patter at index 33 39\n"
     ]
    }
   ],
   "source": [
    "from typing import List, Dict\n",
    "\n",
    "def compute_lps(pattern: str):\n",
    "\n",
    "    pattern_len = len(pattern)\n",
    "    dfa: List[int] = pattern_len * [0]\n",
    "\n",
    "    lps = 0\n",
    "    i = 0\n",
    "    j = 1\n",
    "\n",
    "    while j < pattern_len:\n",
    "        char_i = pattern[i]\n",
    "        char_j = pattern[j]\n",
    "        if char_i == char_j:\n",
    "            dfa[j] = lps + 1\n",
    "            lps += 1\n",
    "        j += 1\n",
    "        i += 1\n",
    "\n",
    "    return dfa\n",
    "\n",
    "def search(text: str, pattern: str):\n",
    "\n",
    "    N = len(text)\n",
    "    M = len(pattern)\n",
    "\n",
    "    i = 0\n",
    "    j = 0\n",
    "\n",
    "    pattern_lps = compute_lps(test_pattern)\n",
    "    print(pattern_lps)\n",
    "\n",
    "    while i < N:\n",
    "        text_char = text[i]\n",
    "        pattern_char = pattern[j]\n",
    "\n",
    "        if text_char == pattern_char:\n",
    "            j += 1\n",
    "            i += 1\n",
    "\n",
    "        if j == M:\n",
    "            print(\"Found patter at index\", i - M, i)\n",
    "            j = 0\n",
    "        elif i < N and text_char != pattern_char:\n",
    "            if j != 0:\n",
    "                j = pattern_lps[j - 1]\n",
    "            i += 1\n",
    "\n",
    "test_text = \"tepstppatattperntestppttrrpatternppttrr\"\n",
    "test_pattern = \"ppttrr\"\n",
    "\n",
    "search(test_text, test_pattern)"
   ]
  }
 ],
 "metadata": {
  "kernelspec": {
   "display_name": "Python 3",
   "language": "python",
   "name": "python3"
  },
  "language_info": {
   "codemirror_mode": {
    "name": "ipython",
    "version": 3
   },
   "file_extension": ".py",
   "mimetype": "text/x-python",
   "name": "python",
   "nbconvert_exporter": "python",
   "pygments_lexer": "ipython3",
   "version": "3.7.6"
  }
 },
 "nbformat": 4,
 "nbformat_minor": 4
}
