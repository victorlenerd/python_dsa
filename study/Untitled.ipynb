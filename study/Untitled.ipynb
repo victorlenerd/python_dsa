{
 "cells": [
  {
   "cell_type": "code",
   "execution_count": 1,
   "metadata": {},
   "outputs": [],
   "source": [
    "def binary_search(numbers, key):\n",
    "    # Variables to hold the low, middle and high indices\n",
    "    # of the area being searched. Starts with entire range.\n",
    "    low = 0\n",
    "    mid = len(numbers) // 2\n",
    "    high = len(numbers) - 1\n",
    "   \n",
    "    # Loop until \"low\" passes \"high\"\n",
    "    while (high >= low):\n",
    "        # calculate the middle index\n",
    "        mid = (high + low) // 2\n",
    "\n",
    "        # Cut the range to either the left or right half,\n",
    "        # unless numbers[mid] is the key\n",
    "        if (numbers[mid] < key):\n",
    "            low = mid + 1\n",
    "      \n",
    "        elif (numbers[mid] > key):\n",
    "            high = mid - 1\n",
    "      \n",
    "        else:\n",
    "            return mid   \n",
    "   \n",
    "    return -1 # not found"
   ]
  },
  {
   "cell_type": "code",
   "execution_count": 4,
   "metadata": {},
   "outputs": [
    {
     "data": {
      "text/plain": [
       "4"
      ]
     },
     "execution_count": 4,
     "metadata": {},
     "output_type": "execute_result"
    }
   ],
   "source": [
    "binary_search([12, 21, 29, 31, 33, 39], 33)"
   ]
  },
  {
   "cell_type": "code",
   "execution_count": null,
   "metadata": {},
   "outputs": [],
   "source": []
  }
 ],
 "metadata": {
  "kernelspec": {
   "display_name": "Python 3",
   "language": "python",
   "name": "python3"
  },
  "language_info": {
   "codemirror_mode": {
    "name": "ipython",
    "version": 3
   },
   "file_extension": ".py",
   "mimetype": "text/x-python",
   "name": "python",
   "nbconvert_exporter": "python",
   "pygments_lexer": "ipython3",
   "version": "3.7.6"
  }
 },
 "nbformat": 4,
 "nbformat_minor": 4
}
